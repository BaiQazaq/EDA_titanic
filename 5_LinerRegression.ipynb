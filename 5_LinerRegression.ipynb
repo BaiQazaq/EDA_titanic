{
 "cells": [
  {
   "cell_type": "code",
   "execution_count": 2,
   "metadata": {},
   "outputs": [],
   "source": [
    "%matplotlib inline\n",
    "import pandas as pd\n",
    "import numpy as np\n",
    "import matplotlib.pyplot as plt\n",
    "import sklearn\n",
    "\n",
    "from sklearn.linear_model import LinearRegression\n",
    "from sklearn.preprocessing import scale\n",
    "\n",
    "from pylab import rcParams\n",
    "rcParams['figure.figsize'] = 10,8"
   ]
  },
  {
   "cell_type": "code",
   "execution_count": 3,
   "metadata": {},
   "outputs": [
    {
     "data": {
      "text/plain": [
       "array([[49],\n",
       "       [32],\n",
       "       [17],\n",
       "       [47],\n",
       "       [35],\n",
       "       [27],\n",
       "       [47],\n",
       "       [13],\n",
       "       [17],\n",
       "       [48],\n",
       "       [33],\n",
       "       [22],\n",
       "       [30],\n",
       "       [19],\n",
       "       [14],\n",
       "       [29],\n",
       "       [13],\n",
       "       [36],\n",
       "       [47],\n",
       "       [15],\n",
       "       [41],\n",
       "       [39],\n",
       "       [42],\n",
       "       [41],\n",
       "       [33],\n",
       "       [31],\n",
       "       [41],\n",
       "       [36],\n",
       "       [18],\n",
       "       [39],\n",
       "       [35],\n",
       "       [37],\n",
       "       [43],\n",
       "       [16],\n",
       "       [16],\n",
       "       [46],\n",
       "       [31],\n",
       "       [36],\n",
       "       [11],\n",
       "       [35],\n",
       "       [30],\n",
       "       [24],\n",
       "       [26],\n",
       "       [44],\n",
       "       [34],\n",
       "       [18],\n",
       "       [35],\n",
       "       [21],\n",
       "       [42],\n",
       "       [33],\n",
       "       [45],\n",
       "       [14],\n",
       "       [22],\n",
       "       [19],\n",
       "       [34],\n",
       "       [23],\n",
       "       [43],\n",
       "       [34],\n",
       "       [40],\n",
       "       [45],\n",
       "       [46],\n",
       "       [33],\n",
       "       [23],\n",
       "       [40],\n",
       "       [41],\n",
       "       [32],\n",
       "       [38],\n",
       "       [32],\n",
       "       [24],\n",
       "       [48],\n",
       "       [34],\n",
       "       [42],\n",
       "       [18],\n",
       "       [27],\n",
       "       [30],\n",
       "       [34],\n",
       "       [26],\n",
       "       [23],\n",
       "       [18],\n",
       "       [20],\n",
       "       [12],\n",
       "       [40],\n",
       "       [39],\n",
       "       [35],\n",
       "       [35],\n",
       "       [48],\n",
       "       [11],\n",
       "       [10],\n",
       "       [44],\n",
       "       [10],\n",
       "       [37],\n",
       "       [36],\n",
       "       [30],\n",
       "       [19],\n",
       "       [36],\n",
       "       [33],\n",
       "       [30],\n",
       "       [28],\n",
       "       [19],\n",
       "       [28]])"
      ]
     },
     "execution_count": 3,
     "metadata": {},
     "output_type": "execute_result"
    }
   ],
   "source": [
    "windows = np.random.randint(10,50, (100,1))\n",
    "windows"
   ]
  },
  {
   "cell_type": "code",
   "execution_count": 6,
   "metadata": {},
   "outputs": [
    {
     "data": {
      "text/plain": [
       "array([[5156.07148579],\n",
       "       [3456.36686655],\n",
       "       [1956.3531022 ],\n",
       "       [4956.53727625],\n",
       "       [3756.61463727],\n",
       "       [2956.02141244],\n",
       "       [4956.7998918 ],\n",
       "       [1556.69112716],\n",
       "       [1956.1116439 ],\n",
       "       [5056.11750146],\n",
       "       [3556.89903919],\n",
       "       [2456.24920948],\n",
       "       [3256.35857345],\n",
       "       [2156.93070982],\n",
       "       [1656.84217123],\n",
       "       [3156.46801815],\n",
       "       [1556.85555569],\n",
       "       [3856.75255188],\n",
       "       [4956.650299  ],\n",
       "       [1756.40475508],\n",
       "       [4356.3327883 ],\n",
       "       [4156.93734868],\n",
       "       [4456.97141233],\n",
       "       [4356.83499533],\n",
       "       [3556.4231052 ],\n",
       "       [3356.91420193],\n",
       "       [4356.48514249],\n",
       "       [3856.5092478 ],\n",
       "       [2056.8234357 ],\n",
       "       [4156.54456401],\n",
       "       [3756.48125171],\n",
       "       [3956.29380921],\n",
       "       [4556.59381133],\n",
       "       [1856.33844411],\n",
       "       [1856.75414463],\n",
       "       [4856.60728525],\n",
       "       [3356.29006287],\n",
       "       [3856.32066306],\n",
       "       [1356.76508802],\n",
       "       [3756.95881936],\n",
       "       [3256.55007468],\n",
       "       [2656.78276355],\n",
       "       [2856.7749469 ],\n",
       "       [4656.77730862],\n",
       "       [3656.34989531],\n",
       "       [2056.0194487 ],\n",
       "       [3756.53141192],\n",
       "       [2356.67546804],\n",
       "       [4456.04381735],\n",
       "       [3556.35822242],\n",
       "       [4756.85428334],\n",
       "       [1656.92621048],\n",
       "       [2456.91928634],\n",
       "       [2156.62826466],\n",
       "       [3656.92596326],\n",
       "       [2556.19378057],\n",
       "       [4556.54392146],\n",
       "       [3656.54674847],\n",
       "       [4256.37204047],\n",
       "       [4756.47512562],\n",
       "       [4856.48548025],\n",
       "       [3556.14893455],\n",
       "       [2556.03744703],\n",
       "       [4256.81475985],\n",
       "       [4356.83641299],\n",
       "       [3456.11696255],\n",
       "       [4056.88225253],\n",
       "       [3456.33365914],\n",
       "       [2656.20034278],\n",
       "       [5056.49212848],\n",
       "       [3656.31258164],\n",
       "       [4456.35028069],\n",
       "       [2056.35784557],\n",
       "       [2956.47537172],\n",
       "       [3256.98985664],\n",
       "       [3656.31537905],\n",
       "       [2856.2006796 ],\n",
       "       [2556.63585076],\n",
       "       [2056.40546212],\n",
       "       [2256.79460677],\n",
       "       [1456.71294727],\n",
       "       [4256.0432638 ],\n",
       "       [4156.5700968 ],\n",
       "       [3756.82425648],\n",
       "       [3756.38729902],\n",
       "       [5056.53756577],\n",
       "       [1356.9802763 ],\n",
       "       [1256.05303706],\n",
       "       [4656.1283343 ],\n",
       "       [1256.26318195],\n",
       "       [3956.88754903],\n",
       "       [3856.3130694 ],\n",
       "       [3256.4617822 ],\n",
       "       [2156.96358653],\n",
       "       [3856.51925435],\n",
       "       [3556.15407325],\n",
       "       [3256.97589295],\n",
       "       [3056.52495365],\n",
       "       [2156.12263334],\n",
       "       [3056.79515672]])"
      ]
     },
     "execution_count": 6,
     "metadata": {},
     "output_type": "execute_result"
    }
   ],
   "source": [
    "tax = 256 + 100*windows + abs(np.random.rand(100,1))\n",
    "tax"
   ]
  },
  {
   "cell_type": "code",
   "execution_count": 7,
   "metadata": {},
   "outputs": [
    {
     "data": {
      "image/png": "[encoded data removed]",
      "text/plain": [
       "<Figure size 1000x800 with 1 Axes>"
      ]
     },
     "metadata": {},
     "output_type": "display_data"
    }
   ],
   "source": [
    "plt.plot(windows, tax, 'r^')\n",
    "plt.xlabel('windows')\n",
    "plt.ylabel('tax')\n",
    "plt.show()"
   ]
  },
  {
   "cell_type": "code",
   "execution_count": 8,
   "metadata": {},
   "outputs": [
    {
     "name": "stdout",
     "output_type": "stream",
     "text": [
      "[256.56336244] [[99.99889802]]\n"
     ]
    }
   ],
   "source": [
    "x = windows\n",
    "y = tax\n",
    "\n",
    "linRange = LinearRegression()\n",
    "linRange.fit(x,y)\n",
    "print(linRange.intercept_, linRange.coef_)"
   ]
  },
  {
   "cell_type": "code",
   "execution_count": 9,
   "metadata": {},
   "outputs": [
    {
     "name": "stdout",
     "output_type": "stream",
     "text": [
      "0.9999999304923309\n"
     ]
    }
   ],
   "source": [
    "print(linRange.score(x,y))"
   ]
  },
  {
   "cell_type": "code",
   "execution_count": 10,
   "metadata": {},
   "outputs": [
    {
     "data": {
      "text/plain": [
       "array([[5],\n",
       "       [7],\n",
       "       [7],\n",
       "       [8],\n",
       "       [8],\n",
       "       [5],\n",
       "       [8],\n",
       "       [6],\n",
       "       [5]])"
      ]
     },
     "execution_count": 10,
     "metadata": {},
     "output_type": "execute_result"
    }
   ],
   "source": [
    "x_new = np.random.randint(5,10,(100,1))\n",
    "x_new[1:10]"
   ]
  },
  {
   "cell_type": "code",
   "execution_count": 11,
   "metadata": {},
   "outputs": [
    {
     "data": {
      "text/plain": [
       "array([[ 956.55564861],\n",
       "       [ 756.55785257],\n",
       "       [ 956.55564861],\n",
       "       [ 956.55564861],\n",
       "       [1056.55454664],\n",
       "       [1056.55454664],\n",
       "       [ 756.55785257],\n",
       "       [1056.55454664],\n",
       "       [ 856.55675059],\n",
       "       [ 756.55785257],\n",
       "       [ 756.55785257],\n",
       "       [1056.55454664],\n",
       "       [1156.55344466],\n",
       "       [ 956.55564861],\n",
       "       [ 756.55785257],\n",
       "       [1156.55344466],\n",
       "       [1056.55454664],\n",
       "       [1056.55454664],\n",
       "       [ 856.55675059],\n",
       "       [ 756.55785257],\n",
       "       [1056.55454664],\n",
       "       [1156.55344466],\n",
       "       [ 856.55675059],\n",
       "       [ 856.55675059],\n",
       "       [ 956.55564861],\n",
       "       [ 756.55785257],\n",
       "       [ 956.55564861],\n",
       "       [1056.55454664],\n",
       "       [ 956.55564861],\n",
       "       [ 856.55675059],\n",
       "       [ 856.55675059],\n",
       "       [ 756.55785257],\n",
       "       [ 756.55785257],\n",
       "       [1156.55344466],\n",
       "       [ 856.55675059],\n",
       "       [ 956.55564861],\n",
       "       [ 856.55675059],\n",
       "       [ 856.55675059],\n",
       "       [ 956.55564861],\n",
       "       [1056.55454664],\n",
       "       [1056.55454664],\n",
       "       [ 756.55785257],\n",
       "       [ 856.55675059],\n",
       "       [ 856.55675059],\n",
       "       [ 856.55675059],\n",
       "       [ 756.55785257],\n",
       "       [ 756.55785257],\n",
       "       [1056.55454664],\n",
       "       [ 756.55785257],\n",
       "       [1056.55454664],\n",
       "       [1056.55454664],\n",
       "       [ 756.55785257],\n",
       "       [ 956.55564861],\n",
       "       [1056.55454664],\n",
       "       [ 756.55785257],\n",
       "       [1056.55454664],\n",
       "       [1056.55454664],\n",
       "       [1056.55454664],\n",
       "       [ 756.55785257],\n",
       "       [ 756.55785257],\n",
       "       [ 856.55675059],\n",
       "       [ 956.55564861],\n",
       "       [ 856.55675059],\n",
       "       [ 856.55675059],\n",
       "       [1156.55344466],\n",
       "       [1056.55454664],\n",
       "       [ 956.55564861],\n",
       "       [1156.55344466],\n",
       "       [1156.55344466],\n",
       "       [1056.55454664],\n",
       "       [1056.55454664],\n",
       "       [ 756.55785257],\n",
       "       [1156.55344466],\n",
       "       [ 756.55785257],\n",
       "       [ 856.55675059],\n",
       "       [ 956.55564861],\n",
       "       [1156.55344466],\n",
       "       [ 856.55675059],\n",
       "       [ 756.55785257],\n",
       "       [1156.55344466],\n",
       "       [ 756.55785257],\n",
       "       [ 756.55785257],\n",
       "       [1156.55344466],\n",
       "       [1056.55454664],\n",
       "       [ 956.55564861],\n",
       "       [1156.55344466],\n",
       "       [ 956.55564861],\n",
       "       [ 756.55785257],\n",
       "       [ 956.55564861],\n",
       "       [1156.55344466],\n",
       "       [ 756.55785257],\n",
       "       [ 756.55785257],\n",
       "       [ 756.55785257],\n",
       "       [ 856.55675059],\n",
       "       [1056.55454664],\n",
       "       [1156.55344466],\n",
       "       [1156.55344466],\n",
       "       [1156.55344466],\n",
       "       [1056.55454664],\n",
       "       [1156.55344466]])"
      ]
     },
     "execution_count": 11,
     "metadata": {},
     "output_type": "execute_result"
    }
   ],
   "source": [
    "y_new = linRange.predict(x_new)\n",
    "y_new"
   ]
  },
  {
   "cell_type": "code",
   "execution_count": 12,
   "metadata": {},
   "outputs": [
    {
     "data": {
      "image/png": "[encoded data removed]",
      "text/plain": [
       "<Figure size 1000x800 with 1 Axes>"
      ]
     },
     "metadata": {},
     "output_type": "display_data"
    }
   ],
   "source": [
    "plt.plot(x_new, y_new, 'r^')\n",
    "plt.xlabel('windows')\n",
    "plt.ylabel('tax')\n",
    "plt.show()"
   ]
  },
  {
   "cell_type": "code",
   "execution_count": 13,
   "metadata": {},
   "outputs": [
    {
     "name": "stdout",
     "output_type": "stream",
     "text": [
      "1.0\n"
     ]
    }
   ],
   "source": [
    "print(linRange.score(x_new, y_new))"
   ]
  },
  {
   "cell_type": "code",
   "execution_count": null,
   "metadata": {},
   "outputs": [],
   "source": []
  },
  {
   "cell_type": "code",
   "execution_count": null,
   "metadata": {},
   "outputs": [],
   "source": []
  }
 ],
 "metadata": {
  "kernelspec": {
   "display_name": "venv",
   "language": "python",
   "name": "python3"
  },
  "language_info": {
   "codemirror_mode": {
    "name": "ipython",
    "version": 3
   },
   "file_extension": ".py",
   "mimetype": "text/x-python",
   "name": "python",
   "nbconvert_exporter": "python",
   "pygments_lexer": "ipython3",
   "version": "3.11.2"
  }
 },
 "nbformat": 4,
 "nbformat_minor": 2
}
